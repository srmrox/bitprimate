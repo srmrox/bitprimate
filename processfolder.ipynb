{
 "cells": [
  {
   "cell_type": "code",
   "execution_count": 100,
   "metadata": {
    "notebookRunGroups": {
     "groupValue": "1"
    }
   },
   "outputs": [],
   "source": [
    "import pandas as pd\n",
    "from os.path import exists\n",
    "import time\n",
    "import datetime\n",
    "from pathlib import Path\n",
    "import numpy as np\n",
    "\n",
    "# read files from directory\n",
    "file_list = []\n",
    "\n",
    "for file in sorted(os.listdir('static/img/portfolio')):\n",
    "    file_list.append(file)\n",
    "\n",
    "df_dir = pd.DataFrame(file_list, columns=['Files'])\n",
    "df_old = pd.read_csv('processed.csv')\n",
    "\n",
    "# get list of files not processed yet\n",
    "df_new = df_dir.merge(df_old, how='left', indicator=True)\n",
    "df_new = df_new[df_new['_merge']=='left_only'].drop(columns='_merge')\n",
    "\n",
    "# process files\n",
    "for file in df_new['Files']:\n",
    "    \n",
    "    file_path = str(Path('content/portfolio/' + file).with_suffix('.md'))\n",
    "    img_path = str(Path('img/portfolio/' + file).with_suffix('.png'))\n",
    "    \n",
    "    last_time = open(\"lastposttime.txt\").read()\n",
    "    new_time = datetime.datetime.strptime(last_time, '%Y-%m-%d %H:%M:%S') + datetime.timedelta(seconds=3600)\n",
    "    \n",
    "    content = '+++\\ndate = \"' + str(new_time.strftime(\"%Y-%m-%dT%H:%M:%S+05:00\")) + '\"\\ndraft = false\\nimage = \"' + img_path + '\"\\nshowonlyimage = true\\ntitle = \"\"\\n+++\\n\\n<!--more-->\\n![Post image]('+ img_path +')'\n",
    "    with open(file_path, 'w') as f:\n",
    "        f.write(content)\n",
    "\n",
    "    with open(\"lastposttime.txt\", 'w') as f:\n",
    "        f.write(str(new_time))\n",
    "\n",
    "    with open('processed.csv','a') as f:\n",
    "        f.write('\\n'+img_path)"
   ]
  }
 ],
 "metadata": {
  "kernelspec": {
   "display_name": "Python 3.10.4 64-bit",
   "language": "python",
   "name": "python3"
  },
  "language_info": {
   "codemirror_mode": {
    "name": "ipython",
    "version": 3
   },
   "file_extension": ".py",
   "mimetype": "text/x-python",
   "name": "python",
   "nbconvert_exporter": "python",
   "pygments_lexer": "ipython3",
   "version": "3.10.4"
  },
  "orig_nbformat": 4,
  "vscode": {
   "interpreter": {
    "hash": "397928a9ba2c9d70675fb57f95f7aa20e7ac6640209dc03dc6d4016dae4eb711"
   }
  }
 },
 "nbformat": 4,
 "nbformat_minor": 2
}
